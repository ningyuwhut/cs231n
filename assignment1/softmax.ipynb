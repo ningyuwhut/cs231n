{
 "cells": [
  {
   "cell_type": "markdown",
   "metadata": {},
   "source": [
    "# Softmax exercise\n",
    "\n",
    "*Complete and hand in this completed worksheet (including its outputs and any supporting code outside of the worksheet) with your assignment submission. For more details see the [assignments page](http://vision.stanford.edu/teaching/cs231n/assignments.html) on the course website.*\n",
    "\n",
    "This exercise is analogous to the SVM exercise. You will:\n",
    "\n",
    "- implement a fully-vectorized **loss function** for the Softmax classifier\n",
    "- implement the fully-vectorized expression for its **analytic gradient**\n",
    "- **check your implementation** with numerical gradient\n",
    "- use a validation set to **tune the learning rate and regularization** strength\n",
    "- **optimize** the loss function with **SGD**\n",
    "- **visualize** the final learned weights\n"
   ]
  },
  {
   "cell_type": "code",
   "execution_count": 2,
   "metadata": {},
   "outputs": [],
   "source": [
    "import random\n",
    "import numpy as np\n",
    "from cs231n.data_utils import load_CIFAR10\n",
    "import matplotlib.pyplot as plt\n",
    "\n",
    "from __future__ import print_function\n",
    "\n",
    "%matplotlib inline\n",
    "plt.rcParams['figure.figsize'] = (10.0, 8.0) # set default size of plots\n",
    "plt.rcParams['image.interpolation'] = 'nearest'\n",
    "plt.rcParams['image.cmap'] = 'gray'\n",
    "\n",
    "# for auto-reloading extenrnal modules\n",
    "# see http://stackoverflow.com/questions/1907993/autoreload-of-modules-in-ipython\n",
    "%load_ext autoreload\n",
    "%autoreload 2"
   ]
  },
  {
   "cell_type": "code",
   "execution_count": 3,
   "metadata": {},
   "outputs": [
    {
     "name": "stdout",
     "output_type": "stream",
     "text": [
      "Train data shape:  (49000, 3073)\n",
      "Train labels shape:  (49000,)\n",
      "Validation data shape:  (1000, 3073)\n",
      "Validation labels shape:  (1000,)\n",
      "Test data shape:  (1000, 3073)\n",
      "Test labels shape:  (1000,)\n",
      "dev data shape:  (500, 3073)\n",
      "dev labels shape:  (500,)\n"
     ]
    }
   ],
   "source": [
    "def get_CIFAR10_data(num_training=49000, num_validation=1000, num_test=1000, num_dev=500):\n",
    "    \"\"\"\n",
    "    Load the CIFAR-10 dataset from disk and perform preprocessing to prepare\n",
    "    it for the linear classifier. These are the same steps as we used for the\n",
    "    SVM, but condensed to a single function.  \n",
    "    \"\"\"\n",
    "    # Load the raw CIFAR-10 data\n",
    "    cifar10_dir = 'cs231n/datasets/cifar-10-batches-py'\n",
    "    X_train, y_train, X_test, y_test = load_CIFAR10(cifar10_dir)\n",
    "    \n",
    "    # subsample the data\n",
    "    mask = list(range(num_training, num_training + num_validation))\n",
    "    X_val = X_train[mask]\n",
    "    y_val = y_train[mask]\n",
    "    mask = list(range(num_training))\n",
    "    X_train = X_train[mask]\n",
    "    y_train = y_train[mask]\n",
    "    mask = list(range(num_test))\n",
    "    X_test = X_test[mask]\n",
    "    y_test = y_test[mask]\n",
    "    mask = np.random.choice(num_training, num_dev, replace=False)\n",
    "    X_dev = X_train[mask]\n",
    "    y_dev = y_train[mask]\n",
    "    \n",
    "    # Preprocessing: reshape the image data into rows\n",
    "    X_train = np.reshape(X_train, (X_train.shape[0], -1))\n",
    "    X_val = np.reshape(X_val, (X_val.shape[0], -1))\n",
    "    X_test = np.reshape(X_test, (X_test.shape[0], -1))\n",
    "    X_dev = np.reshape(X_dev, (X_dev.shape[0], -1))\n",
    "    \n",
    "    # Normalize the data: subtract the mean image\n",
    "    mean_image = np.mean(X_train, axis = 0)\n",
    "    X_train -= mean_image\n",
    "    X_val -= mean_image\n",
    "    X_test -= mean_image\n",
    "    X_dev -= mean_image\n",
    "    \n",
    "    # add bias dimension and transform into columns\n",
    "    X_train = np.hstack([X_train, np.ones((X_train.shape[0], 1))])\n",
    "    X_val = np.hstack([X_val, np.ones((X_val.shape[0], 1))])\n",
    "    X_test = np.hstack([X_test, np.ones((X_test.shape[0], 1))])\n",
    "    X_dev = np.hstack([X_dev, np.ones((X_dev.shape[0], 1))])\n",
    "    \n",
    "    return X_train, y_train, X_val, y_val, X_test, y_test, X_dev, y_dev\n",
    "\n",
    "\n",
    "# Invoke the above function to get our data.\n",
    "X_train, y_train, X_val, y_val, X_test, y_test, X_dev, y_dev = get_CIFAR10_data()\n",
    "print('Train data shape: ', X_train.shape)\n",
    "print('Train labels shape: ', y_train.shape)\n",
    "print('Validation data shape: ', X_val.shape)\n",
    "print('Validation labels shape: ', y_val.shape)\n",
    "print('Test data shape: ', X_test.shape)\n",
    "print('Test labels shape: ', y_test.shape)\n",
    "print('dev data shape: ', X_dev.shape)\n",
    "print('dev labels shape: ', y_dev.shape)"
   ]
  },
  {
   "cell_type": "markdown",
   "metadata": {},
   "source": [
    "## Softmax Classifier\n",
    "\n",
    "Your code for this section will all be written inside **cs231n/classifiers/softmax.py**. \n"
   ]
  },
  {
   "cell_type": "code",
   "execution_count": 7,
   "metadata": {},
   "outputs": [
    {
     "name": "stdout",
     "output_type": "stream",
     "text": [
      "loss: 2.341989\n",
      "sanity check: 2.302585\n"
     ]
    }
   ],
   "source": [
    "# First implement the naive softmax loss function with nested loops.\n",
    "# Open the file cs231n/classifiers/softmax.py and implement the\n",
    "# softmax_loss_naive function.\n",
    "\n",
    "from cs231n.classifiers.softmax import softmax_loss_naive\n",
    "import time\n",
    "\n",
    "# Generate a random softmax weight matrix and use it to compute the loss.\n",
    "W = np.random.randn(3073, 10) * 0.0001\n",
    "loss, grad = softmax_loss_naive(W, X_dev, y_dev, 0.0)\n",
    "\n",
    "# As a rough sanity check, our loss should be something close to -log(0.1).\n",
    "print('loss: %f' % loss)\n",
    "print('sanity check: %f' % (-np.log(0.1)))"
   ]
  },
  {
   "cell_type": "markdown",
   "metadata": {},
   "source": [
    "## Inline Question 1:\n",
    "Why do we expect our loss to be close to -log(0.1)? Explain briefly.**\n",
    "\n",
    "**Your answer:** *Fill this in*\n"
   ]
  },
  {
   "cell_type": "code",
   "execution_count": 8,
   "metadata": {},
   "outputs": [
    {
     "name": "stdout",
     "output_type": "stream",
     "text": [
      "(535, 8) -8.30731246378e-06\n",
      "numerical: -2.749685 analytic: -2.749685, relative error: 7.734693e-09\n",
      "(2091, 0) -0.000105450050366\n",
      "numerical: -0.649436 analytic: -0.649436, relative error: 1.144973e-07\n",
      "(2935, 3) -8.7069519981e-05\n",
      "numerical: -0.150511 analytic: -0.150511, relative error: 3.498411e-07\n",
      "(1831, 9) -5.80034349168e-05\n",
      "numerical: 1.987399 analytic: 1.987399, relative error: 1.518657e-08\n",
      "(1297, 0) 1.00875823643e-05\n",
      "numerical: -1.466939 analytic: -1.466939, relative error: 8.194940e-09\n",
      "(760, 3) -0.000211168718902\n",
      "numerical: 3.179586 analytic: 3.179585, relative error: 1.884070e-08\n",
      "(2934, 9) -8.39637851132e-05\n",
      "numerical: 0.931390 analytic: 0.931390, relative error: 2.694342e-08\n",
      "(1557, 1) -8.2577692562e-05\n",
      "numerical: 0.443402 analytic: 0.443402, relative error: 6.602493e-08\n",
      "(64, 4) -3.12698541139e-05\n",
      "numerical: 0.849247 analytic: 0.849248, relative error: 7.567121e-08\n",
      "(752, 5) -0.000101121905758\n",
      "numerical: 1.006888 analytic: 1.006888, relative error: 1.466929e-08\n",
      "(1929, 9) 5.85395608051e-05\n",
      "numerical: 1.672134 analytic: 1.672134, relative error: 2.825141e-08\n",
      "(3012, 6) 0.000242237246897\n",
      "numerical: -0.066230 analytic: -0.066230, relative error: 6.520471e-07\n",
      "(783, 8) -0.000198122292645\n",
      "numerical: -0.917672 analytic: -0.917672, relative error: 5.907356e-09\n",
      "(2221, 0) -0.000133439040055\n",
      "numerical: -3.126241 analytic: -3.126241, relative error: 2.123275e-08\n",
      "(1310, 6) -0.000117871811742\n",
      "numerical: 2.189590 analytic: 2.189590, relative error: 2.385147e-08\n",
      "(2316, 3) -0.000126706422233\n",
      "numerical: -0.325845 analytic: -0.325845, relative error: 1.828775e-07\n",
      "(1038, 3) 1.45806089047e-05\n",
      "numerical: 2.094168 analytic: 2.094168, relative error: 2.776479e-08\n",
      "(2810, 7) 2.59411948647e-05\n",
      "numerical: 0.355778 analytic: 0.355777, relative error: 1.554020e-07\n",
      "(1818, 0) -7.01421191589e-05\n",
      "numerical: -0.758828 analytic: -0.758828, relative error: 5.513894e-08\n",
      "(738, 3) -0.000233678492871\n",
      "numerical: 2.325833 analytic: 2.325833, relative error: 2.625176e-08\n"
     ]
    }
   ],
   "source": [
    "# Complete the implementation of softmax_loss_naive and implement a (naive)\n",
    "# version of the gradient that uses nested loops.\n",
    "loss, grad = softmax_loss_naive(W, X_dev, y_dev, 0.0)\n",
    "\n",
    "# As we did for the SVM, use numeric gradient checking as a debugging tool.\n",
    "# The numeric gradient should be close to the analytic gradient.\n",
    "from cs231n.gradient_check import grad_check_sparse\n",
    "f = lambda w: softmax_loss_naive(w, X_dev, y_dev, 0.0)[0]\n",
    "grad_numerical = grad_check_sparse(f, W, grad, 10)\n",
    "\n",
    "# similar to SVM case, do another gradient check with regularization\n",
    "loss, grad = softmax_loss_naive(W, X_dev, y_dev, 5e1)\n",
    "f = lambda w: softmax_loss_naive(w, X_dev, y_dev, 5e1)[0]\n",
    "grad_numerical = grad_check_sparse(f, W, grad, 10)"
   ]
  },
  {
   "cell_type": "code",
   "execution_count": 12,
   "metadata": {},
   "outputs": [
    {
     "name": "stdout",
     "output_type": "stream",
     "text": [
      "naive loss: 2.341989e+00 computed in 0.082696s\n",
      "vectorized loss: 2.341989e+00 computed in 0.012174s\n",
      "Loss difference: 0.000000\n",
      "Gradient difference: 0.000000\n"
     ]
    }
   ],
   "source": [
    "# Now that we have a naive implementation of the softmax loss function and its gradient,\n",
    "# implement a vectorized version in softmax_loss_vectorized.\n",
    "# The two versions should compute the same results, but the vectorized version should be\n",
    "# much faster.\n",
    "tic = time.time()\n",
    "loss_naive, grad_naive = softmax_loss_naive(W, X_dev, y_dev, 0.000005)\n",
    "toc = time.time()\n",
    "print('naive loss: %e computed in %fs' % (loss_naive, toc - tic))\n",
    "\n",
    "from cs231n.classifiers.softmax import softmax_loss_vectorized\n",
    "tic = time.time()\n",
    "loss_vectorized, grad_vectorized = softmax_loss_vectorized(W, X_dev, y_dev, 0.000005)\n",
    "toc = time.time()\n",
    "print('vectorized loss: %e computed in %fs' % (loss_vectorized, toc - tic))\n",
    "\n",
    "# As we did for the SVM, we use the Frobenius norm to compare the two versions\n",
    "# of the gradient.\n",
    "grad_difference = np.linalg.norm(grad_naive - grad_vectorized, ord='fro')\n",
    "print('Loss difference: %f' % np.abs(loss_naive - loss_vectorized))\n",
    "print('Gradient difference: %f' % grad_difference)"
   ]
  },
  {
   "cell_type": "code",
   "execution_count": null,
   "metadata": {
    "collapsed": true
   },
   "outputs": [],
   "source": []
  },
  {
   "cell_type": "code",
   "execution_count": 13,
   "metadata": {},
   "outputs": [
    {
     "name": "stdout",
     "output_type": "stream",
     "text": [
      "iteration 0 / 1500: loss 386.545169\n",
      "iteration 100 / 1500: loss 233.472799\n",
      "iteration 200 / 1500: loss 141.906669\n",
      "iteration 300 / 1500: loss 86.547820\n",
      "iteration 400 / 1500: loss 53.205212\n",
      "iteration 500 / 1500: loss 32.936612\n",
      "iteration 600 / 1500: loss 20.691423\n",
      "iteration 700 / 1500: loss 13.214424\n",
      "iteration 800 / 1500: loss 8.895781\n",
      "iteration 900 / 1500: loss 6.147634\n",
      "iteration 1000 / 1500: loss 4.510792\n",
      "iteration 1100 / 1500: loss 3.582431\n",
      "iteration 1200 / 1500: loss 2.961423\n",
      "iteration 1300 / 1500: loss 2.577395\n",
      "iteration 1400 / 1500: loss 2.305111\n",
      "iteration 0 / 1500: loss 762.511997\n",
      "iteration 100 / 1500: loss 280.348963\n",
      "iteration 200 / 1500: loss 103.771825\n",
      "iteration 300 / 1500: loss 39.298376\n",
      "iteration 400 / 1500: loss 15.690531\n",
      "iteration 500 / 1500: loss 7.058145\n",
      "iteration 600 / 1500: loss 3.875305\n",
      "iteration 700 / 1500: loss 2.709130\n",
      "iteration 800 / 1500: loss 2.295241\n",
      "iteration 900 / 1500: loss 2.166792\n",
      "iteration 1000 / 1500: loss 2.136630\n",
      "iteration 1100 / 1500: loss 2.095848\n",
      "iteration 1200 / 1500: loss 2.094428\n",
      "iteration 1300 / 1500: loss 2.082098\n",
      "iteration 1400 / 1500: loss 2.142155\n",
      "iteration 0 / 1500: loss 392.364795\n",
      "iteration 100 / 1500: loss 33.088714\n",
      "iteration 200 / 1500: loss 4.473454\n",
      "iteration 300 / 1500: loss 2.268933\n",
      "iteration 400 / 1500: loss 2.072544\n",
      "iteration 500 / 1500: loss 2.033426\n",
      "iteration 600 / 1500: loss 2.001533\n",
      "iteration 700 / 1500: loss 2.046739\n",
      "iteration 800 / 1500: loss 2.044578\n",
      "iteration 900 / 1500: loss 2.109533\n",
      "iteration 1000 / 1500: loss 1.944514\n",
      "iteration 1100 / 1500: loss 2.028547\n",
      "iteration 1200 / 1500: loss 2.063515\n",
      "iteration 1300 / 1500: loss 2.054965\n",
      "iteration 1400 / 1500: loss 1.985066\n",
      "iteration 0 / 1500: loss 771.471674\n",
      "iteration 100 / 1500: loss 6.850518\n",
      "iteration 200 / 1500: loss 2.059114\n",
      "iteration 300 / 1500: loss 2.065756\n",
      "iteration 400 / 1500: loss 2.131843\n",
      "iteration 500 / 1500: loss 2.115760\n",
      "iteration 600 / 1500: loss 2.067605\n",
      "iteration 700 / 1500: loss 2.041052\n",
      "iteration 800 / 1500: loss 2.054091\n",
      "iteration 900 / 1500: loss 2.026702\n",
      "iteration 1000 / 1500: loss 2.102890\n",
      "iteration 1100 / 1500: loss 2.073161\n",
      "iteration 1200 / 1500: loss 2.080691\n",
      "iteration 1300 / 1500: loss 2.085896\n",
      "iteration 1400 / 1500: loss 2.155630\n",
      "lr 1.000000e-07 reg 2.500000e+04 train accuracy: 0.352388 val accuracy: 0.367000\n",
      "lr 1.000000e-07 reg 5.000000e+04 train accuracy: 0.330184 val accuracy: 0.345000\n",
      "lr 5.000000e-07 reg 2.500000e+04 train accuracy: 0.350755 val accuracy: 0.351000\n",
      "lr 5.000000e-07 reg 5.000000e+04 train accuracy: 0.329041 val accuracy: 0.331000\n",
      "best validation accuracy achieved during cross-validation: 0.367000\n"
     ]
    }
   ],
   "source": [
    "# Use the validation set to tune hyperparameters (regularization strength and\n",
    "# learning rate). You should experiment with different ranges for the learning\n",
    "# rates and regularization strengths; if you are careful you should be able to\n",
    "# get a classification accuracy of over 0.35 on the validation set.\n",
    "from cs231n.classifiers import Softmax\n",
    "results = {}\n",
    "best_val = -1\n",
    "best_softmax = None\n",
    "learning_rates = [1e-7, 5e-7]\n",
    "regularization_strengths = [2.5e4, 5e4]\n",
    "\n",
    "################################################################################\n",
    "# TODO:                                                                        #\n",
    "# Use the validation set to set the learning rate and regularization strength. #\n",
    "# This should be identical to the validation that you did for the SVM; save    #\n",
    "# the best trained softmax classifer in best_softmax.                          #\n",
    "################################################################################\n",
    "combination = np.array(np.meshgrid(learning_rates,regularization_strengths )).T.reshape(-1,2)\n",
    "\n",
    "for iterm in combination:\n",
    "    lr = iterm[0]\n",
    "    reg = iterm[1]\n",
    "    \n",
    "   # print(iterm)\n",
    "    softmax = Softmax()\n",
    "    loss_hist = softmax.train(X_train, y_train, learning_rate=lr, reg=reg,\n",
    "                      num_iters=1500, verbose=True)\n",
    "    \n",
    "    y_train_pred = softmax.predict(X_train)\n",
    "    \n",
    "    y_train_accuracy = np.mean(y_train == y_train_pred)\n",
    "  #  print('training accuracy: %f' % (np.mean(y_train == y_train_pred), ))\n",
    "    y_val_pred = softmax.predict(X_val)\n",
    "    \n",
    "    y_val_accuracy = np.mean(y_val == y_val_pred)\n",
    "  #  print('validation accuracy: %f' % (np.mean(y_val == y_val_pred), ))\n",
    "    \n",
    "    results[ ( lr, reg)] = (y_train_accuracy, y_val_accuracy)\n",
    "    \n",
    "    if y_val_accuracy > best_val :\n",
    "        best_val = y_val_accuracy\n",
    "        best_softmax = s\n",
    "    \n",
    "################################################################################\n",
    "#                              END OF YOUR CODE                                #\n",
    "################################################################################\n",
    "    \n",
    "# Print out results.\n",
    "for lr, reg in sorted(results):\n",
    "    train_accuracy, val_accuracy = results[(lr, reg)]\n",
    "    print('lr %e reg %e train accuracy: %f val accuracy: %f' % (\n",
    "                lr, reg, train_accuracy, val_accuracy))\n",
    "    \n",
    "print('best validation accuracy achieved during cross-validation: %f' % best_val)"
   ]
  },
  {
   "cell_type": "code",
   "execution_count": 14,
   "metadata": {},
   "outputs": [
    {
     "name": "stdout",
     "output_type": "stream",
     "text": [
      "softmax on raw pixels final test set accuracy: 0.370000\n"
     ]
    }
   ],
   "source": [
    "# evaluate on test set\n",
    "# Evaluate the best softmax on test set\n",
    "y_test_pred = best_softmax.predict(X_test)\n",
    "test_accuracy = np.mean(y_test == y_test_pred)\n",
    "print('softmax on raw pixels final test set accuracy: %f' % (test_accuracy, ))"
   ]
  },
  {
   "cell_type": "code",
   "execution_count": 16,
   "metadata": {},
   "outputs": [
    {
     "data": {
      "image/png": "[encoded data removed]",
      "text/plain": [
       "<matplotlib.figure.Figure at 0x10b5c41d0>"
      ]
     },
     "metadata": {},
     "output_type": "display_data"
    }
   ],
   "source": [
    "# Visualize the learned weights for each class\n",
    "w = best_softmax.W[:-1,:] # strip out the bias\n",
    "w = w.reshape(32, 32, 3, 10)\n",
    "\n",
    "w_min, w_max = np.min(w), np.max(w)\n",
    "\n",
    "classes = ['plane', 'car', 'bird', 'cat', 'deer', 'dog', 'frog', 'horse', 'ship', 'truck']\n",
    "for i in range(10):\n",
    "    plt.subplot(2, 5, i + 1)\n",
    "    \n",
    "    # Rescale the weights to be between 0 and 255\n",
    "    wimg = 255.0 * (w[:, :, :, i].squeeze() - w_min) / (w_max - w_min)\n",
    "    plt.imshow(wimg.astype('uint8'))\n",
    "    plt.axis('off')\n",
    "    plt.title(classes[i])"
   ]
  },
  {
   "cell_type": "code",
   "execution_count": null,
   "metadata": {
    "collapsed": true
   },
   "outputs": [],
   "source": []
  }
 ],
 "metadata": {
  "kernelspec": {
   "display_name": "Python [conda env:py3]",
   "language": "python",
   "name": "conda-env-py3-py"
  },
  "language_info": {
   "codemirror_mode": {
    "name": "ipython",
    "version": 3
   },
   "file_extension": ".py",
   "mimetype": "text/x-python",
   "name": "python",
   "nbconvert_exporter": "python",
   "pygments_lexer": "ipython3",
   "version": "3.5.4"
  }
 },
 "nbformat": 4,
 "nbformat_minor": 1
}
